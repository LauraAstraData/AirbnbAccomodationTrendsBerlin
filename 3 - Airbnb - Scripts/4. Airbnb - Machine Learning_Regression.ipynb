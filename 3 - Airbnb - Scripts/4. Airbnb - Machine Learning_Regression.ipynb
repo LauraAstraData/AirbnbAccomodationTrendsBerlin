{
 "cells": [
  {
   "cell_type": "markdown",
   "id": "2fca357b",
   "metadata": {},
   "source": [
    "#### 1. Importing Libraries and data"
   ]
  },
  {
   "cell_type": "code",
   "execution_count": 1,
   "id": "72c079df",
   "metadata": {},
   "outputs": [],
   "source": [
    "import pandas as pd\n",
    "import numpy as np\n",
    "import seaborn as sns\n",
    "import matplotlib\n",
    "import matplotlib.pyplot as plt\n",
    "import os\n",
    "import sklearn\n",
    "from sklearn.model_selection import train_test_split \n",
    "from sklearn.linear_model import LinearRegression\n",
    "from sklearn.metrics import mean_squared_error, r2_score"
   ]
  },
  {
   "cell_type": "code",
   "execution_count": 2,
   "id": "04ddbfb2",
   "metadata": {},
   "outputs": [],
   "source": [
    "# This option ensures that the graphs you create are displayed within the notebook without the need to \"call\" them specifically.\n",
    "\n",
    "%matplotlib inline"
   ]
  },
  {
   "cell_type": "code",
   "execution_count": 3,
   "id": "71b33393",
   "metadata": {},
   "outputs": [],
   "source": [
    "path = r'C:\\Users"
   ]
  },
  {
   "cell_type": "code",
   "execution_count": 7,
   "id": "ff0e4f7d",
   "metadata": {},
   "outputs": [],
   "source": [
    "df_airbnb = pd.read_csv(os.path.join(path, '2 - Airbnb - Data', 'Prepared Data', 'df_airbnb_v2_rev.csv'))"
   ]
  },
  {
   "cell_type": "code",
   "execution_count": 8,
   "id": "a94a3a82",
   "metadata": {},
   "outputs": [
    {
     "data": {
      "text/plain": [
       "Index(['Unnamed: 0', 'Unnamed: 0.1', 'id', 'name', 'host_id', 'host_name',\n",
       "       'area', 'district', 'latitude', 'longitude', 'room_type', 'price',\n",
       "       'min_nights', 'nr_reviews', 'last_review', 'reviews_per_month',\n",
       "       'calculated_host_listings_count', 'availability_365', 'price category'],\n",
       "      dtype='object')"
      ]
     },
     "execution_count": 8,
     "metadata": {},
     "output_type": "execute_result"
    }
   ],
   "source": [
    "df_airbnb.columns"
   ]
  },
  {
   "cell_type": "markdown",
   "id": "7b90c209",
   "metadata": {},
   "source": [
    "#### 2. Data Cleaning"
   ]
  },
  {
   "cell_type": "code",
   "execution_count": 9,
   "id": "407fb7d6",
   "metadata": {},
   "outputs": [],
   "source": [
    "# Dropping unnamed column\n",
    "df_airbnb1 = df_airbnb.drop(columns = ['Unnamed: 0','Unnamed: 0.1'])"
   ]
  },
  {
   "cell_type": "code",
   "execution_count": 11,
   "id": "2cb739a8",
   "metadata": {},
   "outputs": [
    {
     "data": {
      "text/html": [
       "<div>\n",
       "<style scoped>\n",
       "    .dataframe tbody tr th:only-of-type {\n",
       "        vertical-align: middle;\n",
       "    }\n",
       "\n",
       "    .dataframe tbody tr th {\n",
       "        vertical-align: top;\n",
       "    }\n",
       "\n",
       "    .dataframe thead th {\n",
       "        text-align: right;\n",
       "    }\n",
       "</style>\n",
       "<table border=\"1\" class=\"dataframe\">\n",
       "  <thead>\n",
       "    <tr style=\"text-align: right;\">\n",
       "      <th></th>\n",
       "      <th>id</th>\n",
       "      <th>name</th>\n",
       "      <th>host_id</th>\n",
       "      <th>host_name</th>\n",
       "      <th>area</th>\n",
       "      <th>district</th>\n",
       "      <th>latitude</th>\n",
       "      <th>longitude</th>\n",
       "      <th>room_type</th>\n",
       "      <th>price</th>\n",
       "      <th>min_nights</th>\n",
       "      <th>nr_reviews</th>\n",
       "      <th>last_review</th>\n",
       "      <th>reviews_per_month</th>\n",
       "      <th>calculated_host_listings_count</th>\n",
       "      <th>availability_365</th>\n",
       "      <th>price category</th>\n",
       "    </tr>\n",
       "  </thead>\n",
       "  <tbody>\n",
       "    <tr>\n",
       "      <th>0</th>\n",
       "      <td>1944</td>\n",
       "      <td>bright &amp; airy Pberg/Mitte 3 months or more</td>\n",
       "      <td>2164</td>\n",
       "      <td>Lulah</td>\n",
       "      <td>Mitte</td>\n",
       "      <td>Brunnenstr. Nord</td>\n",
       "      <td>52.54425</td>\n",
       "      <td>13.39749</td>\n",
       "      <td>Private room</td>\n",
       "      <td>20</td>\n",
       "      <td>60</td>\n",
       "      <td>18</td>\n",
       "      <td>2018-11-11</td>\n",
       "      <td>0.20</td>\n",
       "      <td>3</td>\n",
       "      <td>251</td>\n",
       "      <td>low price</td>\n",
       "    </tr>\n",
       "    <tr>\n",
       "      <th>1</th>\n",
       "      <td>2015</td>\n",
       "      <td>Berlin-Mitte Value! Quiet courtyard/very central</td>\n",
       "      <td>2217</td>\n",
       "      <td>Ion</td>\n",
       "      <td>Mitte</td>\n",
       "      <td>Brunnenstr. Süd</td>\n",
       "      <td>52.53454</td>\n",
       "      <td>13.40256</td>\n",
       "      <td>Entire home/apt</td>\n",
       "      <td>59</td>\n",
       "      <td>5</td>\n",
       "      <td>135</td>\n",
       "      <td>2021-02-12</td>\n",
       "      <td>2.24</td>\n",
       "      <td>6</td>\n",
       "      <td>173</td>\n",
       "      <td>middle price</td>\n",
       "    </tr>\n",
       "    <tr>\n",
       "      <th>2</th>\n",
       "      <td>3176</td>\n",
       "      <td>Fabulous Flat in great Location</td>\n",
       "      <td>3718</td>\n",
       "      <td>Britta</td>\n",
       "      <td>Pankow</td>\n",
       "      <td>Prenzlauer Berg Südwest</td>\n",
       "      <td>52.53500</td>\n",
       "      <td>13.41758</td>\n",
       "      <td>Entire home/apt</td>\n",
       "      <td>90</td>\n",
       "      <td>62</td>\n",
       "      <td>147</td>\n",
       "      <td>2021-01-01</td>\n",
       "      <td>1.03</td>\n",
       "      <td>1</td>\n",
       "      <td>348</td>\n",
       "      <td>middle price</td>\n",
       "    </tr>\n",
       "    <tr>\n",
       "      <th>3</th>\n",
       "      <td>3309</td>\n",
       "      <td>BerlinSpot Schöneberg near KaDeWe</td>\n",
       "      <td>4108</td>\n",
       "      <td>Jana</td>\n",
       "      <td>Tempelhof - Schöneberg</td>\n",
       "      <td>Schöneberg-Nord</td>\n",
       "      <td>52.49885</td>\n",
       "      <td>13.34906</td>\n",
       "      <td>Private room</td>\n",
       "      <td>29</td>\n",
       "      <td>7</td>\n",
       "      <td>27</td>\n",
       "      <td>2019-05-31</td>\n",
       "      <td>0.29</td>\n",
       "      <td>1</td>\n",
       "      <td>364</td>\n",
       "      <td>low price</td>\n",
       "    </tr>\n",
       "    <tr>\n",
       "      <th>4</th>\n",
       "      <td>6883</td>\n",
       "      <td>Stylish East Side Loft in Center with AC &amp; 2 b...</td>\n",
       "      <td>16149</td>\n",
       "      <td>Steffen</td>\n",
       "      <td>Friedrichshain-Kreuzberg</td>\n",
       "      <td>Frankfurter Allee Süd FK</td>\n",
       "      <td>52.51171</td>\n",
       "      <td>13.45477</td>\n",
       "      <td>Entire home/apt</td>\n",
       "      <td>79</td>\n",
       "      <td>7</td>\n",
       "      <td>135</td>\n",
       "      <td>2021-01-23</td>\n",
       "      <td>1.00</td>\n",
       "      <td>1</td>\n",
       "      <td>0</td>\n",
       "      <td>middle price</td>\n",
       "    </tr>\n",
       "    <tr>\n",
       "      <th>5</th>\n",
       "      <td>7071</td>\n",
       "      <td>BrightRoom with sunny greenview!</td>\n",
       "      <td>17391</td>\n",
       "      <td>BrightRoom</td>\n",
       "      <td>Pankow</td>\n",
       "      <td>Helmholtzplatz</td>\n",
       "      <td>52.54316</td>\n",
       "      <td>13.41509</td>\n",
       "      <td>Private room</td>\n",
       "      <td>33</td>\n",
       "      <td>1</td>\n",
       "      <td>293</td>\n",
       "      <td>2020-03-31</td>\n",
       "      <td>2.08</td>\n",
       "      <td>1</td>\n",
       "      <td>0</td>\n",
       "      <td>low price</td>\n",
       "    </tr>\n",
       "    <tr>\n",
       "      <th>6</th>\n",
       "      <td>9991</td>\n",
       "      <td>Geourgeous flat - outstanding views</td>\n",
       "      <td>33852</td>\n",
       "      <td>Philipp</td>\n",
       "      <td>Pankow</td>\n",
       "      <td>Prenzlauer Berg Südwest</td>\n",
       "      <td>52.53303</td>\n",
       "      <td>13.41605</td>\n",
       "      <td>Entire home/apt</td>\n",
       "      <td>180</td>\n",
       "      <td>6</td>\n",
       "      <td>8</td>\n",
       "      <td>2020-01-04</td>\n",
       "      <td>0.12</td>\n",
       "      <td>1</td>\n",
       "      <td>43</td>\n",
       "      <td>high price</td>\n",
       "    </tr>\n",
       "    <tr>\n",
       "      <th>7</th>\n",
       "      <td>14325</td>\n",
       "      <td>Apartment in Prenzlauer Berg</td>\n",
       "      <td>55531</td>\n",
       "      <td>Chris + Oliver</td>\n",
       "      <td>Pankow</td>\n",
       "      <td>Prenzlauer Berg Nordwest</td>\n",
       "      <td>52.54785</td>\n",
       "      <td>13.40556</td>\n",
       "      <td>Entire home/apt</td>\n",
       "      <td>70</td>\n",
       "      <td>90</td>\n",
       "      <td>25</td>\n",
       "      <td>2020-05-02</td>\n",
       "      <td>0.19</td>\n",
       "      <td>3</td>\n",
       "      <td>255</td>\n",
       "      <td>middle price</td>\n",
       "    </tr>\n",
       "    <tr>\n",
       "      <th>8</th>\n",
       "      <td>16644</td>\n",
       "      <td>In the Heart of Berlin - Kreuzberg</td>\n",
       "      <td>64696</td>\n",
       "      <td>Rene</td>\n",
       "      <td>Friedrichshain-Kreuzberg</td>\n",
       "      <td>nördliche Luisenstadt</td>\n",
       "      <td>52.50479</td>\n",
       "      <td>13.43510</td>\n",
       "      <td>Entire home/apt</td>\n",
       "      <td>90</td>\n",
       "      <td>60</td>\n",
       "      <td>48</td>\n",
       "      <td>2017-12-14</td>\n",
       "      <td>0.37</td>\n",
       "      <td>2</td>\n",
       "      <td>194</td>\n",
       "      <td>middle price</td>\n",
       "    </tr>\n",
       "    <tr>\n",
       "      <th>9</th>\n",
       "      <td>17904</td>\n",
       "      <td>Beautiful Kreuzberg studio/fast WiFi</td>\n",
       "      <td>68997</td>\n",
       "      <td>Matthias</td>\n",
       "      <td>Friedrichshain-Kreuzberg</td>\n",
       "      <td>südliche Luisenstadt</td>\n",
       "      <td>52.49578</td>\n",
       "      <td>13.42194</td>\n",
       "      <td>Entire home/apt</td>\n",
       "      <td>49</td>\n",
       "      <td>5</td>\n",
       "      <td>279</td>\n",
       "      <td>2021-01-16</td>\n",
       "      <td>2.07</td>\n",
       "      <td>1</td>\n",
       "      <td>339</td>\n",
       "      <td>middle price</td>\n",
       "    </tr>\n",
       "    <tr>\n",
       "      <th>10</th>\n",
       "      <td>20858</td>\n",
       "      <td>Designer Loft in Berlin Mitte</td>\n",
       "      <td>71331</td>\n",
       "      <td>Marc</td>\n",
       "      <td>Pankow</td>\n",
       "      <td>Prenzlauer Berg Südwest</td>\n",
       "      <td>52.53695</td>\n",
       "      <td>13.40762</td>\n",
       "      <td>Entire home/apt</td>\n",
       "      <td>159</td>\n",
       "      <td>3</td>\n",
       "      <td>86</td>\n",
       "      <td>2020-02-26</td>\n",
       "      <td>0.84</td>\n",
       "      <td>1</td>\n",
       "      <td>179</td>\n",
       "      <td>high price</td>\n",
       "    </tr>\n",
       "    <tr>\n",
       "      <th>11</th>\n",
       "      <td>21869</td>\n",
       "      <td>Studio in the Heart of Kreuzberg</td>\n",
       "      <td>64696</td>\n",
       "      <td>Rene</td>\n",
       "      <td>Friedrichshain-Kreuzberg</td>\n",
       "      <td>nördliche Luisenstadt</td>\n",
       "      <td>52.50273</td>\n",
       "      <td>13.43462</td>\n",
       "      <td>Entire home/apt</td>\n",
       "      <td>70</td>\n",
       "      <td>60</td>\n",
       "      <td>60</td>\n",
       "      <td>2016-06-05</td>\n",
       "      <td>0.47</td>\n",
       "      <td>2</td>\n",
       "      <td>311</td>\n",
       "      <td>middle price</td>\n",
       "    </tr>\n",
       "    <tr>\n",
       "      <th>12</th>\n",
       "      <td>22438</td>\n",
       "      <td>WOHNUNG IN BERLIN ★ MITTE</td>\n",
       "      <td>86159</td>\n",
       "      <td>Javier</td>\n",
       "      <td>Mitte</td>\n",
       "      <td>Brunnenstr. Nord</td>\n",
       "      <td>52.53445</td>\n",
       "      <td>13.38837</td>\n",
       "      <td>Entire home/apt</td>\n",
       "      <td>65</td>\n",
       "      <td>90</td>\n",
       "      <td>181</td>\n",
       "      <td>2020-11-30</td>\n",
       "      <td>1.49</td>\n",
       "      <td>1</td>\n",
       "      <td>252</td>\n",
       "      <td>middle price</td>\n",
       "    </tr>\n",
       "    <tr>\n",
       "      <th>13</th>\n",
       "      <td>22677</td>\n",
       "      <td>Prenzel garden with leafy terrace (quiet Guests)</td>\n",
       "      <td>87357</td>\n",
       "      <td>Ramfis</td>\n",
       "      <td>Mitte</td>\n",
       "      <td>Brunnenstr. Süd</td>\n",
       "      <td>52.53435</td>\n",
       "      <td>13.40558</td>\n",
       "      <td>Entire home/apt</td>\n",
       "      <td>160</td>\n",
       "      <td>2</td>\n",
       "      <td>309</td>\n",
       "      <td>2020-08-07</td>\n",
       "      <td>2.43</td>\n",
       "      <td>1</td>\n",
       "      <td>241</td>\n",
       "      <td>high price</td>\n",
       "    </tr>\n",
       "    <tr>\n",
       "      <th>14</th>\n",
       "      <td>23834</td>\n",
       "      <td>Apartment in the heart of Berlin</td>\n",
       "      <td>94918</td>\n",
       "      <td>Tanja</td>\n",
       "      <td>Friedrichshain-Kreuzberg</td>\n",
       "      <td>Tempelhofer Vorstadt</td>\n",
       "      <td>52.48971</td>\n",
       "      <td>13.37975</td>\n",
       "      <td>Entire home/apt</td>\n",
       "      <td>65</td>\n",
       "      <td>185</td>\n",
       "      <td>99</td>\n",
       "      <td>2019-08-31</td>\n",
       "      <td>0.75</td>\n",
       "      <td>1</td>\n",
       "      <td>0</td>\n",
       "      <td>middle price</td>\n",
       "    </tr>\n",
       "    <tr>\n",
       "      <th>15</th>\n",
       "      <td>24569</td>\n",
       "      <td>Sunny &amp; Wheelchair accessible</td>\n",
       "      <td>99662</td>\n",
       "      <td>Dominik</td>\n",
       "      <td>Pankow</td>\n",
       "      <td>Prenzlauer Berg Südwest</td>\n",
       "      <td>52.53079</td>\n",
       "      <td>13.41808</td>\n",
       "      <td>Entire home/apt</td>\n",
       "      <td>211</td>\n",
       "      <td>7</td>\n",
       "      <td>21</td>\n",
       "      <td>2019-12-01</td>\n",
       "      <td>0.16</td>\n",
       "      <td>2</td>\n",
       "      <td>84</td>\n",
       "      <td>high price</td>\n",
       "    </tr>\n",
       "    <tr>\n",
       "      <th>16</th>\n",
       "      <td>25653</td>\n",
       "      <td>Sunny &amp; stylish 150 sqm apartment</td>\n",
       "      <td>99662</td>\n",
       "      <td>Dominik</td>\n",
       "      <td>Pankow</td>\n",
       "      <td>Prenzlauer Berg Süd</td>\n",
       "      <td>52.53026</td>\n",
       "      <td>13.41947</td>\n",
       "      <td>Entire home/apt</td>\n",
       "      <td>90</td>\n",
       "      <td>4</td>\n",
       "      <td>5</td>\n",
       "      <td>2016-08-14</td>\n",
       "      <td>0.04</td>\n",
       "      <td>2</td>\n",
       "      <td>83</td>\n",
       "      <td>middle price</td>\n",
       "    </tr>\n",
       "    <tr>\n",
       "      <th>17</th>\n",
       "      <td>28156</td>\n",
       "      <td>Beautiful apartment in Prenzlauer Berg</td>\n",
       "      <td>55531</td>\n",
       "      <td>Chris + Oliver</td>\n",
       "      <td>Pankow</td>\n",
       "      <td>Prenzlauer Berg Nordwest</td>\n",
       "      <td>52.54672</td>\n",
       "      <td>13.40512</td>\n",
       "      <td>Entire home/apt</td>\n",
       "      <td>80</td>\n",
       "      <td>90</td>\n",
       "      <td>32</td>\n",
       "      <td>2020-05-31</td>\n",
       "      <td>0.25</td>\n",
       "      <td>3</td>\n",
       "      <td>289</td>\n",
       "      <td>middle price</td>\n",
       "    </tr>\n",
       "    <tr>\n",
       "      <th>18</th>\n",
       "      <td>29279</td>\n",
       "      <td>Quiet 2 rooms next Helmholtzplatz</td>\n",
       "      <td>54283</td>\n",
       "      <td>Marine</td>\n",
       "      <td>Pankow</td>\n",
       "      <td>Helmholtzplatz</td>\n",
       "      <td>52.54179</td>\n",
       "      <td>13.42388</td>\n",
       "      <td>Entire home/apt</td>\n",
       "      <td>80</td>\n",
       "      <td>60</td>\n",
       "      <td>76</td>\n",
       "      <td>2020-12-20</td>\n",
       "      <td>0.60</td>\n",
       "      <td>3</td>\n",
       "      <td>1</td>\n",
       "      <td>middle price</td>\n",
       "    </tr>\n",
       "    <tr>\n",
       "      <th>19</th>\n",
       "      <td>30295</td>\n",
       "      <td>PEACEFUL FLAT WITH VINTAGE TOUCH IN PRENZLAUER...</td>\n",
       "      <td>485838</td>\n",
       "      <td>NaN</td>\n",
       "      <td>Pankow</td>\n",
       "      <td>Helmholtzplatz</td>\n",
       "      <td>52.54597</td>\n",
       "      <td>13.42236</td>\n",
       "      <td>Entire home/apt</td>\n",
       "      <td>124</td>\n",
       "      <td>4</td>\n",
       "      <td>304</td>\n",
       "      <td>2021-02-01</td>\n",
       "      <td>2.38</td>\n",
       "      <td>4</td>\n",
       "      <td>322</td>\n",
       "      <td>high price</td>\n",
       "    </tr>\n",
       "  </tbody>\n",
       "</table>\n",
       "</div>"
      ],
      "text/plain": [
       "       id                                               name  host_id  \\\n",
       "0    1944         bright & airy Pberg/Mitte 3 months or more     2164   \n",
       "1    2015   Berlin-Mitte Value! Quiet courtyard/very central     2217   \n",
       "2    3176                    Fabulous Flat in great Location     3718   \n",
       "3    3309                  BerlinSpot Schöneberg near KaDeWe     4108   \n",
       "4    6883  Stylish East Side Loft in Center with AC & 2 b...    16149   \n",
       "5    7071                   BrightRoom with sunny greenview!    17391   \n",
       "6    9991                Geourgeous flat - outstanding views    33852   \n",
       "7   14325                       Apartment in Prenzlauer Berg    55531   \n",
       "8   16644                 In the Heart of Berlin - Kreuzberg    64696   \n",
       "9   17904               Beautiful Kreuzberg studio/fast WiFi    68997   \n",
       "10  20858                      Designer Loft in Berlin Mitte    71331   \n",
       "11  21869                   Studio in the Heart of Kreuzberg    64696   \n",
       "12  22438                          WOHNUNG IN BERLIN ★ MITTE    86159   \n",
       "13  22677   Prenzel garden with leafy terrace (quiet Guests)    87357   \n",
       "14  23834                   Apartment in the heart of Berlin    94918   \n",
       "15  24569                      Sunny & Wheelchair accessible    99662   \n",
       "16  25653                  Sunny & stylish 150 sqm apartment    99662   \n",
       "17  28156             Beautiful apartment in Prenzlauer Berg    55531   \n",
       "18  29279                  Quiet 2 rooms next Helmholtzplatz    54283   \n",
       "19  30295  PEACEFUL FLAT WITH VINTAGE TOUCH IN PRENZLAUER...   485838   \n",
       "\n",
       "         host_name                      area                  district  \\\n",
       "0            Lulah                     Mitte          Brunnenstr. Nord   \n",
       "1              Ion                     Mitte           Brunnenstr. Süd   \n",
       "2           Britta                    Pankow   Prenzlauer Berg Südwest   \n",
       "3             Jana    Tempelhof - Schöneberg           Schöneberg-Nord   \n",
       "4          Steffen  Friedrichshain-Kreuzberg  Frankfurter Allee Süd FK   \n",
       "5       BrightRoom                    Pankow            Helmholtzplatz   \n",
       "6          Philipp                    Pankow   Prenzlauer Berg Südwest   \n",
       "7   Chris + Oliver                    Pankow  Prenzlauer Berg Nordwest   \n",
       "8             Rene  Friedrichshain-Kreuzberg     nördliche Luisenstadt   \n",
       "9         Matthias  Friedrichshain-Kreuzberg      südliche Luisenstadt   \n",
       "10            Marc                    Pankow   Prenzlauer Berg Südwest   \n",
       "11            Rene  Friedrichshain-Kreuzberg     nördliche Luisenstadt   \n",
       "12          Javier                     Mitte          Brunnenstr. Nord   \n",
       "13          Ramfis                     Mitte           Brunnenstr. Süd   \n",
       "14           Tanja  Friedrichshain-Kreuzberg      Tempelhofer Vorstadt   \n",
       "15         Dominik                    Pankow   Prenzlauer Berg Südwest   \n",
       "16         Dominik                    Pankow       Prenzlauer Berg Süd   \n",
       "17  Chris + Oliver                    Pankow  Prenzlauer Berg Nordwest   \n",
       "18          Marine                    Pankow            Helmholtzplatz   \n",
       "19             NaN                    Pankow            Helmholtzplatz   \n",
       "\n",
       "    latitude  longitude        room_type  price  min_nights  nr_reviews  \\\n",
       "0   52.54425   13.39749     Private room     20          60          18   \n",
       "1   52.53454   13.40256  Entire home/apt     59           5         135   \n",
       "2   52.53500   13.41758  Entire home/apt     90          62         147   \n",
       "3   52.49885   13.34906     Private room     29           7          27   \n",
       "4   52.51171   13.45477  Entire home/apt     79           7         135   \n",
       "5   52.54316   13.41509     Private room     33           1         293   \n",
       "6   52.53303   13.41605  Entire home/apt    180           6           8   \n",
       "7   52.54785   13.40556  Entire home/apt     70          90          25   \n",
       "8   52.50479   13.43510  Entire home/apt     90          60          48   \n",
       "9   52.49578   13.42194  Entire home/apt     49           5         279   \n",
       "10  52.53695   13.40762  Entire home/apt    159           3          86   \n",
       "11  52.50273   13.43462  Entire home/apt     70          60          60   \n",
       "12  52.53445   13.38837  Entire home/apt     65          90         181   \n",
       "13  52.53435   13.40558  Entire home/apt    160           2         309   \n",
       "14  52.48971   13.37975  Entire home/apt     65         185          99   \n",
       "15  52.53079   13.41808  Entire home/apt    211           7          21   \n",
       "16  52.53026   13.41947  Entire home/apt     90           4           5   \n",
       "17  52.54672   13.40512  Entire home/apt     80          90          32   \n",
       "18  52.54179   13.42388  Entire home/apt     80          60          76   \n",
       "19  52.54597   13.42236  Entire home/apt    124           4         304   \n",
       "\n",
       "   last_review  reviews_per_month  calculated_host_listings_count  \\\n",
       "0   2018-11-11               0.20                               3   \n",
       "1   2021-02-12               2.24                               6   \n",
       "2   2021-01-01               1.03                               1   \n",
       "3   2019-05-31               0.29                               1   \n",
       "4   2021-01-23               1.00                               1   \n",
       "5   2020-03-31               2.08                               1   \n",
       "6   2020-01-04               0.12                               1   \n",
       "7   2020-05-02               0.19                               3   \n",
       "8   2017-12-14               0.37                               2   \n",
       "9   2021-01-16               2.07                               1   \n",
       "10  2020-02-26               0.84                               1   \n",
       "11  2016-06-05               0.47                               2   \n",
       "12  2020-11-30               1.49                               1   \n",
       "13  2020-08-07               2.43                               1   \n",
       "14  2019-08-31               0.75                               1   \n",
       "15  2019-12-01               0.16                               2   \n",
       "16  2016-08-14               0.04                               2   \n",
       "17  2020-05-31               0.25                               3   \n",
       "18  2020-12-20               0.60                               3   \n",
       "19  2021-02-01               2.38                               4   \n",
       "\n",
       "    availability_365 price category  \n",
       "0                251      low price  \n",
       "1                173   middle price  \n",
       "2                348   middle price  \n",
       "3                364      low price  \n",
       "4                  0   middle price  \n",
       "5                  0      low price  \n",
       "6                 43     high price  \n",
       "7                255   middle price  \n",
       "8                194   middle price  \n",
       "9                339   middle price  \n",
       "10               179     high price  \n",
       "11               311   middle price  \n",
       "12               252   middle price  \n",
       "13               241     high price  \n",
       "14                 0   middle price  \n",
       "15                84     high price  \n",
       "16                83   middle price  \n",
       "17               289   middle price  \n",
       "18                 1   middle price  \n",
       "19               322     high price  "
      ]
     },
     "execution_count": 11,
     "metadata": {},
     "output_type": "execute_result"
    }
   ],
   "source": [
    "df_airbnb1.head(20)"
   ]
  },
  {
   "cell_type": "code",
   "execution_count": 12,
   "id": "295402a0",
   "metadata": {},
   "outputs": [
    {
     "data": {
      "text/plain": [
       "(19761, 17)"
      ]
     },
     "execution_count": 12,
     "metadata": {},
     "output_type": "execute_result"
    }
   ],
   "source": [
    "df_airbnb1.shape"
   ]
  },
  {
   "cell_type": "code",
   "execution_count": 14,
   "id": "0bef184c",
   "metadata": {},
   "outputs": [
    {
     "data": {
      "text/plain": [
       "id                                   0\n",
       "name                                32\n",
       "host_id                              0\n",
       "host_name                          929\n",
       "area                                 0\n",
       "district                             0\n",
       "latitude                             0\n",
       "longitude                            0\n",
       "room_type                            0\n",
       "price                                0\n",
       "min_nights                           0\n",
       "nr_reviews                           0\n",
       "last_review                       4049\n",
       "reviews_per_month                    0\n",
       "calculated_host_listings_count       0\n",
       "availability_365                     0\n",
       "price category                       0\n",
       "dtype: int64"
      ]
     },
     "execution_count": 14,
     "metadata": {},
     "output_type": "execute_result"
    }
   ],
   "source": [
    "# Check for missing values\n",
    "\n",
    "df_airbnb1.isnull().sum()\n",
    "\n",
    "# No missing values to handle"
   ]
  },
  {
   "cell_type": "markdown",
   "id": "d0af9c1f",
   "metadata": {},
   "source": [
    "##### dropping 'name', 'host_name' and 'last review' as they contain qualitative data not relevant for the exercise purpose"
   ]
  },
  {
   "cell_type": "code",
   "execution_count": 15,
   "id": "517edf3a",
   "metadata": {},
   "outputs": [],
   "source": [
    "# Dropping unnamed column\n",
    "df_airbnb2 = df_airbnb1.drop(columns = ['name','host_name', 'last_review'])"
   ]
  },
  {
   "cell_type": "code",
   "execution_count": 16,
   "id": "fe9e7c8a",
   "metadata": {},
   "outputs": [
    {
     "data": {
      "text/plain": [
       "id                                0\n",
       "host_id                           0\n",
       "area                              0\n",
       "district                          0\n",
       "latitude                          0\n",
       "longitude                         0\n",
       "room_type                         0\n",
       "price                             0\n",
       "min_nights                        0\n",
       "nr_reviews                        0\n",
       "reviews_per_month                 0\n",
       "calculated_host_listings_count    0\n",
       "availability_365                  0\n",
       "price category                    0\n",
       "dtype: int64"
      ]
     },
     "execution_count": 16,
     "metadata": {},
     "output_type": "execute_result"
    }
   ],
   "source": [
    "# double checking results\n",
    "df_airbnb2.isnull().sum()\n"
   ]
  },
  {
   "cell_type": "code",
   "execution_count": 17,
   "id": "e5adc529",
   "metadata": {},
   "outputs": [],
   "source": [
    "dups = df_airbnb.duplicated()"
   ]
  },
  {
   "cell_type": "code",
   "execution_count": 19,
   "id": "01344e33",
   "metadata": {},
   "outputs": [
    {
     "data": {
      "text/plain": [
       "(19761,)"
      ]
     },
     "execution_count": 19,
     "metadata": {},
     "output_type": "execute_result"
    }
   ],
   "source": [
    "dups.shape"
   ]
  },
  {
   "cell_type": "markdown",
   "id": "cba56250",
   "metadata": {},
   "source": [
    "###### no duplicates"
   ]
  },
  {
   "cell_type": "code",
   "execution_count": 20,
   "id": "c8a90c95",
   "metadata": {},
   "outputs": [
    {
     "name": "stderr",
     "output_type": "stream",
     "text": [
      "C:\\Users\\laune\\Anaconda3\\lib\\site-packages\\seaborn\\distributions.py:2557: FutureWarning: `distplot` is a deprecated function and will be removed in a future version. Please adapt your code to use either `displot` (a figure-level function with similar flexibility) or `histplot` (an axes-level function for histograms).\n",
      "  warnings.warn(msg, FutureWarning)\n"
     ]
    },
    {
     "data": {
      "text/plain": [
       "<AxesSubplot:xlabel='price', ylabel='Density'>"
      ]
     },
     "execution_count": 20,
     "metadata": {},
     "output_type": "execute_result"
    },
    {
     "data": {
      "image/png": "[encoded data removed]",
      "text/plain": [
       "<Figure size 432x288 with 1 Axes>"
      ]
     },
     "metadata": {
      "needs_background": "light"
     },
     "output_type": "display_data"
    }
   ],
   "source": [
    "sns.distplot(df_airbnb2['price'], bins=25) # Shows extreme values\n",
    "\n",
    "# Some of the outliers in the high values may need to be removed, but let's try without doing so first."
   ]
  },
  {
   "cell_type": "code",
   "execution_count": 21,
   "id": "a2f23d44",
   "metadata": {},
   "outputs": [
    {
     "data": {
      "text/plain": [
       "67.03142553514498"
      ]
     },
     "execution_count": 21,
     "metadata": {},
     "output_type": "execute_result"
    }
   ],
   "source": [
    "# Check the mean\n",
    "df_airbnb2['price'].mean() "
   ]
  },
  {
   "cell_type": "code",
   "execution_count": 22,
   "id": "636aaf01",
   "metadata": {},
   "outputs": [
    {
     "data": {
      "text/plain": [
       "50.0"
      ]
     },
     "execution_count": 22,
     "metadata": {},
     "output_type": "execute_result"
    }
   ],
   "source": [
    "# Check the median\n",
    "df_airbnb2['price'].median()"
   ]
  },
  {
   "cell_type": "code",
   "execution_count": 23,
   "id": "d78315c1",
   "metadata": {},
   "outputs": [
    {
     "data": {
      "text/plain": [
       "999"
      ]
     },
     "execution_count": 23,
     "metadata": {},
     "output_type": "execute_result"
    }
   ],
   "source": [
    "# Check the max\n",
    "df_airbnb2['price'].max() "
   ]
  },
  {
   "cell_type": "markdown",
   "id": "35dece66",
   "metadata": {},
   "source": [
    "#### 3. Data preparation for regression"
   ]
  },
  {
   "cell_type": "markdown",
   "id": "0697e047",
   "metadata": {},
   "source": [
    "##### Is there a strong correlation between minimum nights per stay and price per night?\n"
   ]
  },
  {
   "cell_type": "markdown",
   "id": "7890ef00",
   "metadata": {},
   "source": [
    "##### Does higher minimum night’s stay imply a lower price per night?"
   ]
  },
  {
   "cell_type": "code",
   "execution_count": 24,
   "id": "67013752",
   "metadata": {},
   "outputs": [
    {
     "data": {
      "image/png": "[encoded data removed]",
      "text/plain": [
       "<Figure size 432x288 with 1 Axes>"
      ]
     },
     "metadata": {
      "needs_background": "light"
     },
     "output_type": "display_data"
    }
   ],
   "source": [
    "# Create a scatterplot using matplotlib for another look at how the chosen variables plot against each other.\n",
    "\n",
    "df_airbnb2.plot(x = 'min_nights', y='price',style='o') # The style option creates a scatterplot; without it, we only have lines.\n",
    "plt.title('min_nights vs price per night')  \n",
    "plt.xlabel('min_nights')  \n",
    "plt.ylabel('price')  \n",
    "plt.show()"
   ]
  },
  {
   "cell_type": "code",
   "execution_count": 25,
   "id": "ccb50b25",
   "metadata": {},
   "outputs": [],
   "source": [
    "# Reshape the variables into NumPy arrays and put them into separate objects.\n",
    "\n",
    "X = df_airbnb2['min_nights'].values.reshape(-1,1)\n",
    "y = df_airbnb2['price'].values.reshape(-1,1)"
   ]
  },
  {
   "cell_type": "code",
   "execution_count": 26,
   "id": "80e91d6e",
   "metadata": {},
   "outputs": [
    {
     "data": {
      "text/plain": [
       "array([[60],\n",
       "       [ 5],\n",
       "       [62],\n",
       "       ...,\n",
       "       [ 2],\n",
       "       [ 7],\n",
       "       [ 2]], dtype=int64)"
      ]
     },
     "execution_count": 26,
     "metadata": {},
     "output_type": "execute_result"
    }
   ],
   "source": [
    "X"
   ]
  },
  {
   "cell_type": "code",
   "execution_count": 27,
   "id": "f8fff1ae",
   "metadata": {},
   "outputs": [
    {
     "data": {
      "text/plain": [
       "array([[20],\n",
       "       [59],\n",
       "       [90],\n",
       "       ...,\n",
       "       [80],\n",
       "       [25],\n",
       "       [22]], dtype=int64)"
      ]
     },
     "execution_count": 27,
     "metadata": {},
     "output_type": "execute_result"
    }
   ],
   "source": [
    "y"
   ]
  },
  {
   "cell_type": "code",
   "execution_count": 28,
   "id": "9d0d81a8",
   "metadata": {},
   "outputs": [],
   "source": [
    "# Split data into a training set and a test set.\n",
    "\n",
    "X_train, X_test, y_train, y_test = train_test_split(X, y, test_size=0.3, random_state=0)"
   ]
  },
  {
   "cell_type": "markdown",
   "id": "84c3cc5e",
   "metadata": {},
   "source": [
    "#### 4. Regression Analysis"
   ]
  },
  {
   "cell_type": "code",
   "execution_count": 29,
   "id": "8cb783b7",
   "metadata": {},
   "outputs": [],
   "source": [
    "# Create a regression object.\n",
    "\n",
    "regression = LinearRegression()"
   ]
  },
  {
   "cell_type": "code",
   "execution_count": 30,
   "id": "a0ddef67",
   "metadata": {},
   "outputs": [
    {
     "data": {
      "text/plain": [
       "LinearRegression()"
      ]
     },
     "execution_count": 30,
     "metadata": {},
     "output_type": "execute_result"
    }
   ],
   "source": [
    "# Fit the regression object onto the training set.\n",
    "\n",
    "regression.fit(X_train, y_train)"
   ]
  },
  {
   "cell_type": "code",
   "execution_count": 31,
   "id": "eab27826",
   "metadata": {},
   "outputs": [],
   "source": [
    "# Predict the values of y using X.\n",
    "\n",
    "y_predicted = regression.predict(X_test)"
   ]
  },
  {
   "cell_type": "code",
   "execution_count": 32,
   "id": "41d6e32a",
   "metadata": {},
   "outputs": [
    {
     "data": {
      "image/png": "[encoded data removed]",
      "text/plain": [
       "<Figure size 432x288 with 1 Axes>"
      ]
     },
     "metadata": {
      "needs_background": "light"
     },
     "output_type": "display_data"
    }
   ],
   "source": [
    "# Create a plot that shows the regression line from the model on the test set.\n",
    "\n",
    "plot_test = plt\n",
    "plot_test.scatter(X_test, y_test, color='gray', s = 15)\n",
    "plot_test.plot(X_test, y_predicted, color='blue', linewidth =3)\n",
    "plot_test.title('min_night vs price (Test set)')\n",
    "plot_test.xlabel('minimum nights')\n",
    "plot_test.ylabel('price per night')\n",
    "plot_test.show()"
   ]
  },
  {
   "cell_type": "code",
   "execution_count": 33,
   "id": "d908dafd",
   "metadata": {},
   "outputs": [],
   "source": [
    "# Create objects that contain the model summary statistics.\n",
    "\n",
    "rmse = mean_squared_error(y_test, y_predicted) # This is the mean squared error\n",
    "r2 = r2_score(y_test, y_predicted) # This is the R2 score. "
   ]
  },
  {
   "cell_type": "code",
   "execution_count": 34,
   "id": "66430a6d",
   "metadata": {},
   "outputs": [
    {
     "name": "stdout",
     "output_type": "stream",
     "text": [
      "Slope: [[-0.05224962]]\n",
      "Mean squared error:  3884.360154579628\n",
      "R2 score:  -0.0008992712181601359\n"
     ]
    }
   ],
   "source": [
    "# Print the model summary statistics. This is where you evaluate the performance of the model.\n",
    "\n",
    "print('Slope:' ,regression.coef_)\n",
    "print('Mean squared error: ', rmse)\n",
    "print('R2 score: ', r2)"
   ]
  },
  {
   "cell_type": "code",
   "execution_count": 35,
   "id": "b15eb3c9",
   "metadata": {},
   "outputs": [
    {
     "data": {
      "text/plain": [
       "array([[67.61689291],\n",
       "       [67.56464329],\n",
       "       [67.51239367],\n",
       "       ...,\n",
       "       [67.56464329],\n",
       "       [67.51239367],\n",
       "       [67.61689291]])"
      ]
     },
     "execution_count": 35,
     "metadata": {},
     "output_type": "execute_result"
    }
   ],
   "source": [
    "y_predicted"
   ]
  },
  {
   "cell_type": "code",
   "execution_count": 36,
   "id": "da91cb6b",
   "metadata": {},
   "outputs": [
    {
     "data": {
      "text/html": [
       "<div>\n",
       "<style scoped>\n",
       "    .dataframe tbody tr th:only-of-type {\n",
       "        vertical-align: middle;\n",
       "    }\n",
       "\n",
       "    .dataframe tbody tr th {\n",
       "        vertical-align: top;\n",
       "    }\n",
       "\n",
       "    .dataframe thead th {\n",
       "        text-align: right;\n",
       "    }\n",
       "</style>\n",
       "<table border=\"1\" class=\"dataframe\">\n",
       "  <thead>\n",
       "    <tr style=\"text-align: right;\">\n",
       "      <th></th>\n",
       "      <th>Actual</th>\n",
       "      <th>Predicted</th>\n",
       "    </tr>\n",
       "  </thead>\n",
       "  <tbody>\n",
       "    <tr>\n",
       "      <th>0</th>\n",
       "      <td>14</td>\n",
       "      <td>67.616893</td>\n",
       "    </tr>\n",
       "    <tr>\n",
       "      <th>1</th>\n",
       "      <td>30</td>\n",
       "      <td>67.564643</td>\n",
       "    </tr>\n",
       "    <tr>\n",
       "      <th>2</th>\n",
       "      <td>79</td>\n",
       "      <td>67.512394</td>\n",
       "    </tr>\n",
       "    <tr>\n",
       "      <th>3</th>\n",
       "      <td>65</td>\n",
       "      <td>67.407894</td>\n",
       "    </tr>\n",
       "    <tr>\n",
       "      <th>4</th>\n",
       "      <td>36</td>\n",
       "      <td>67.564643</td>\n",
       "    </tr>\n",
       "    <tr>\n",
       "      <th>5</th>\n",
       "      <td>45</td>\n",
       "      <td>67.407894</td>\n",
       "    </tr>\n",
       "    <tr>\n",
       "      <th>6</th>\n",
       "      <td>90</td>\n",
       "      <td>67.564643</td>\n",
       "    </tr>\n",
       "    <tr>\n",
       "      <th>7</th>\n",
       "      <td>85</td>\n",
       "      <td>67.564643</td>\n",
       "    </tr>\n",
       "    <tr>\n",
       "      <th>8</th>\n",
       "      <td>22</td>\n",
       "      <td>67.564643</td>\n",
       "    </tr>\n",
       "    <tr>\n",
       "      <th>9</th>\n",
       "      <td>33</td>\n",
       "      <td>67.616893</td>\n",
       "    </tr>\n",
       "    <tr>\n",
       "      <th>10</th>\n",
       "      <td>30</td>\n",
       "      <td>67.616893</td>\n",
       "    </tr>\n",
       "    <tr>\n",
       "      <th>11</th>\n",
       "      <td>40</td>\n",
       "      <td>67.407894</td>\n",
       "    </tr>\n",
       "    <tr>\n",
       "      <th>12</th>\n",
       "      <td>70</td>\n",
       "      <td>67.564643</td>\n",
       "    </tr>\n",
       "    <tr>\n",
       "      <th>13</th>\n",
       "      <td>30</td>\n",
       "      <td>67.616893</td>\n",
       "    </tr>\n",
       "    <tr>\n",
       "      <th>14</th>\n",
       "      <td>29</td>\n",
       "      <td>67.564643</td>\n",
       "    </tr>\n",
       "    <tr>\n",
       "      <th>15</th>\n",
       "      <td>29</td>\n",
       "      <td>66.624150</td>\n",
       "    </tr>\n",
       "    <tr>\n",
       "      <th>16</th>\n",
       "      <td>50</td>\n",
       "      <td>67.616893</td>\n",
       "    </tr>\n",
       "    <tr>\n",
       "      <th>17</th>\n",
       "      <td>90</td>\n",
       "      <td>67.564643</td>\n",
       "    </tr>\n",
       "    <tr>\n",
       "      <th>18</th>\n",
       "      <td>20</td>\n",
       "      <td>67.512394</td>\n",
       "    </tr>\n",
       "    <tr>\n",
       "      <th>19</th>\n",
       "      <td>58</td>\n",
       "      <td>67.616893</td>\n",
       "    </tr>\n",
       "    <tr>\n",
       "      <th>20</th>\n",
       "      <td>50</td>\n",
       "      <td>67.512394</td>\n",
       "    </tr>\n",
       "    <tr>\n",
       "      <th>21</th>\n",
       "      <td>40</td>\n",
       "      <td>67.564643</td>\n",
       "    </tr>\n",
       "    <tr>\n",
       "      <th>22</th>\n",
       "      <td>50</td>\n",
       "      <td>66.624150</td>\n",
       "    </tr>\n",
       "    <tr>\n",
       "      <th>23</th>\n",
       "      <td>67</td>\n",
       "      <td>67.512394</td>\n",
       "    </tr>\n",
       "    <tr>\n",
       "      <th>24</th>\n",
       "      <td>24</td>\n",
       "      <td>67.355645</td>\n",
       "    </tr>\n",
       "    <tr>\n",
       "      <th>25</th>\n",
       "      <td>25</td>\n",
       "      <td>67.512394</td>\n",
       "    </tr>\n",
       "    <tr>\n",
       "      <th>26</th>\n",
       "      <td>48</td>\n",
       "      <td>67.512394</td>\n",
       "    </tr>\n",
       "    <tr>\n",
       "      <th>27</th>\n",
       "      <td>51</td>\n",
       "      <td>67.564643</td>\n",
       "    </tr>\n",
       "    <tr>\n",
       "      <th>28</th>\n",
       "      <td>33</td>\n",
       "      <td>67.512394</td>\n",
       "    </tr>\n",
       "    <tr>\n",
       "      <th>29</th>\n",
       "      <td>65</td>\n",
       "      <td>58.159713</td>\n",
       "    </tr>\n",
       "  </tbody>\n",
       "</table>\n",
       "</div>"
      ],
      "text/plain": [
       "    Actual  Predicted\n",
       "0       14  67.616893\n",
       "1       30  67.564643\n",
       "2       79  67.512394\n",
       "3       65  67.407894\n",
       "4       36  67.564643\n",
       "5       45  67.407894\n",
       "6       90  67.564643\n",
       "7       85  67.564643\n",
       "8       22  67.564643\n",
       "9       33  67.616893\n",
       "10      30  67.616893\n",
       "11      40  67.407894\n",
       "12      70  67.564643\n",
       "13      30  67.616893\n",
       "14      29  67.564643\n",
       "15      29  66.624150\n",
       "16      50  67.616893\n",
       "17      90  67.564643\n",
       "18      20  67.512394\n",
       "19      58  67.616893\n",
       "20      50  67.512394\n",
       "21      40  67.564643\n",
       "22      50  66.624150\n",
       "23      67  67.512394\n",
       "24      24  67.355645\n",
       "25      25  67.512394\n",
       "26      48  67.512394\n",
       "27      51  67.564643\n",
       "28      33  67.512394\n",
       "29      65  58.159713"
      ]
     },
     "execution_count": 36,
     "metadata": {},
     "output_type": "execute_result"
    }
   ],
   "source": [
    "# Create a dataframe comparing the actual and predicted values of y.\n",
    "\n",
    "data = pd.DataFrame({'Actual': y_test.flatten(), 'Predicted': y_predicted.flatten()})\n",
    "data.head(30)"
   ]
  },
  {
   "cell_type": "markdown",
   "id": "004aa838",
   "metadata": {},
   "source": [
    "##### Compare how the regression fits the training set"
   ]
  },
  {
   "cell_type": "code",
   "execution_count": 37,
   "id": "228a3e22",
   "metadata": {},
   "outputs": [],
   "source": [
    "# Predict.\n",
    "\n",
    "y_predicted_train = regression.predict(X_train) # This is predicting X_train!"
   ]
  },
  {
   "cell_type": "code",
   "execution_count": 38,
   "id": "4e56c31f",
   "metadata": {},
   "outputs": [],
   "source": [
    "rmse = mean_squared_error(y_train, y_predicted_train)\n",
    "r2 = r2_score(y_train, y_predicted_train)"
   ]
  },
  {
   "cell_type": "code",
   "execution_count": 39,
   "id": "0583cc1e",
   "metadata": {},
   "outputs": [
    {
     "name": "stdout",
     "output_type": "stream",
     "text": [
      "Slope: [[-0.05224962]]\n",
      "Mean squared error:  4744.545901355485\n",
      "R2 score:  0.0006041061680664983\n"
     ]
    }
   ],
   "source": [
    "print('Slope:' ,regression.coef_)\n",
    "print('Mean squared error: ', rmse)\n",
    "print('R2 score: ', r2)"
   ]
  },
  {
   "cell_type": "code",
   "execution_count": 40,
   "id": "80385af2",
   "metadata": {},
   "outputs": [
    {
     "data": {
      "image/png": "[encoded data removed]",
      "text/plain": [
       "<Figure size 432x288 with 1 Axes>"
      ]
     },
     "metadata": {
      "needs_background": "light"
     },
     "output_type": "display_data"
    }
   ],
   "source": [
    "# Visualizing the training set results.\n",
    "\n",
    "plot_test = plt\n",
    "plot_test.scatter(X_train, y_train, color='blue', s = 15)\n",
    "plot_test.plot(X_train, y_predicted_train, color='red', linewidth =3)\n",
    "plot_test.title('min nights vs price (Test set)')\n",
    "plot_test.xlabel('minumum nights')\n",
    "plot_test.ylabel('price per night')\n",
    "plot_test.show()"
   ]
  },
  {
   "cell_type": "markdown",
   "id": "bbbd6337",
   "metadata": {},
   "source": [
    "### Bonus: performance improvement after removing outliers"
   ]
  },
  {
   "cell_type": "markdown",
   "id": "2370dfed",
   "metadata": {},
   "source": [
    "##### considering a cap of miminum nights of 365 days (one year)"
   ]
  },
  {
   "cell_type": "code",
   "execution_count": 42,
   "id": "9c3a8e27",
   "metadata": {},
   "outputs": [],
   "source": [
    "# Clean the extreme values from the \"Price per Unit\" variable observed during the consistency checks.\n",
    "\n",
    "df_test = df_airbnb2[df_airbnb2['min_nights'] <=365] "
   ]
  },
  {
   "cell_type": "code",
   "execution_count": 43,
   "id": "b7ada101",
   "metadata": {},
   "outputs": [
    {
     "data": {
      "image/png": "[encoded data removed]",
      "text/plain": [
       "<Figure size 432x288 with 1 Axes>"
      ]
     },
     "metadata": {
      "needs_background": "light"
     },
     "output_type": "display_data"
    }
   ],
   "source": [
    "df_test.plot(x = 'min_nights', y='price',style='o') # The style option creates a scatterplot; without it, we only have lines.\n",
    "plt.title('min_nights vs price per night')  \n",
    "plt.xlabel('min_nights')  \n",
    "plt.ylabel('price')  \n",
    "plt.show()"
   ]
  },
  {
   "cell_type": "code",
   "execution_count": 44,
   "id": "86598c96",
   "metadata": {},
   "outputs": [],
   "source": [
    "# Reshape again.\n",
    "\n",
    "X_2 = df_test['min_nights'].values.reshape(-1,1)\n",
    "y_2 = df_test['price'].values.reshape(-1,1)"
   ]
  },
  {
   "cell_type": "code",
   "execution_count": 45,
   "id": "16bcb73e",
   "metadata": {},
   "outputs": [],
   "source": [
    "X_train_2, X_test_2, y_train_2, y_test_2 = train_test_split(X_2, y_2, test_size=0.3, random_state=0)"
   ]
  },
  {
   "cell_type": "code",
   "execution_count": 46,
   "id": "37425512",
   "metadata": {},
   "outputs": [
    {
     "data": {
      "text/plain": [
       "LinearRegression()"
      ]
     },
     "execution_count": 46,
     "metadata": {},
     "output_type": "execute_result"
    }
   ],
   "source": [
    "# Run and fit the regression.\n",
    "\n",
    "regression = LinearRegression()  \n",
    "regression.fit(X_train_2, y_train_2)"
   ]
  },
  {
   "cell_type": "code",
   "execution_count": 47,
   "id": "1c082630",
   "metadata": {},
   "outputs": [],
   "source": [
    "# Predict.\n",
    "\n",
    "y_predicted_2 = regression.predict(X_test_2)"
   ]
  },
  {
   "cell_type": "code",
   "execution_count": 48,
   "id": "bf5a60b1",
   "metadata": {},
   "outputs": [],
   "source": [
    "rmse = mean_squared_error(y_test_2, y_predicted_2)\n",
    "r2 = r2_score(y_test_2, y_predicted_2)"
   ]
  },
  {
   "cell_type": "code",
   "execution_count": 49,
   "id": "51d71ea9",
   "metadata": {},
   "outputs": [
    {
     "name": "stdout",
     "output_type": "stream",
     "text": [
      "Slope: [[-0.0602474]]\n",
      "Mean squared error:  4944.0678974012135\n",
      "R2 score:  -0.0003205171535944906\n"
     ]
    }
   ],
   "source": [
    "print('Slope:' ,regression.coef_)\n",
    "print('Mean squared error: ', rmse)\n",
    "print('R2 score: ', r2)"
   ]
  },
  {
   "cell_type": "code",
   "execution_count": 50,
   "id": "2fb5c8a7",
   "metadata": {},
   "outputs": [
    {
     "data": {
      "image/png": "[encoded data removed]",
      "text/plain": [
       "<Figure size 432x288 with 1 Axes>"
      ]
     },
     "metadata": {
      "needs_background": "light"
     },
     "output_type": "display_data"
    }
   ],
   "source": [
    "# Visualizing the test set results.\n",
    "plot_test = plt\n",
    "plot_test.scatter(X_test, y_test, color='blue', s = 15)\n",
    "plot_test.plot(X_train, regression.predict(X_train), color='green', linewidth =3)\n",
    "plot_test.title('minimun night vs price per night (Test set)')\n",
    "plot_test.xlabel('min nights')\n",
    "plot_test.ylabel('price per night')\n",
    "plot_test.show()"
   ]
  },
  {
   "cell_type": "markdown",
   "id": "bfb1d52f",
   "metadata": {},
   "source": [
    "##### there is a poor fit between minimum night´s stay and price per night. Apparently other elements than the minimum night do have a better fit or correlation with the price"
   ]
  },
  {
   "cell_type": "code",
   "execution_count": null,
   "id": "e9b43594",
   "metadata": {},
   "outputs": [],
   "source": []
  }
 ],
 "metadata": {
  "kernelspec": {
   "display_name": "Python 3",
   "language": "python",
   "name": "python3"
  },
  "language_info": {
   "codemirror_mode": {
    "name": "ipython",
    "version": 3
   },
   "file_extension": ".py",
   "mimetype": "text/x-python",
   "name": "python",
   "nbconvert_exporter": "python",
   "pygments_lexer": "ipython3",
   "version": "3.8.8"
  }
 },
 "nbformat": 4,
 "nbformat_minor": 5
}
